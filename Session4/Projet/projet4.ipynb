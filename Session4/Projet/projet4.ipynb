{
 "cells": [
  {
   "cell_type": "markdown",
   "metadata": {},
   "source": [
    "# Projet maison n° 4"
   ]
  },
  {
   "cell_type": "code",
   "execution_count": 442,
   "metadata": {},
   "outputs": [],
   "source": [
    "# imports\n",
    "import pandas as pd"
   ]
  },
  {
   "cell_type": "markdown",
   "metadata": {},
   "source": [
    "## 1. US baby names\n",
    "\n",
    "On va s'intéresser au dataset **National data** de la SSA : https://www.ssa.gov/oact/babynames/limits.html\n",
    "\n",
    "1. Télécharger le dataset des prénoms US : https://www.ssa.gov/oact/babynames/names.zip\n",
    "\n",
    "Lire la documentation associée.\n",
    "\n",
    "2. Implémenter une fonction Python qui produit un unique DataFrame avec tous les fichiers en utilisant pandas, pas de bash :)\n",
    "\n",
    "Ordre et noms des colonnes : 'year', 'name', 'gender', 'births'\n",
    "\n",
    "Le DataFrame doit être trié selon l'année croissante puis selon l'ordre défini par les différents fichiers (voir la documentation du dataset)."
   ]
  },
  {
   "cell_type": "code",
   "execution_count": 443,
   "metadata": {},
   "outputs": [],
   "source": [
    "# names us\n",
    "\n",
    "def df_names_us():\n",
    "    #pour définir les titres des différents fichiers.txt à prendre en considération \n",
    "    years = list(range(1880,2020,1))\n",
    "    \n",
    "   \n",
    "    #Récupération des fichiers \n",
    "    \n",
    "    dfs_list = [] #la méthode pd.concat prend en argument une liste \n",
    "    for year in years: \n",
    "        df = pd.read_csv(\"yob\" + str(year) + \".txt\", names =['name', 'gender', 'births'])\n",
    "        df.insert(0,'year', year)\n",
    "        dfs_list.append(df)\n",
    "    \n",
    "    #Concaténation \n",
    "    df_res = pd.concat(dfs_list, ignore_index = True)\n",
    "    return df_res"
   ]
  },
  {
   "cell_type": "markdown",
   "metadata": {},
   "source": [
    "## 2. Prénoms français"
   ]
  },
  {
   "cell_type": "markdown",
   "metadata": {},
   "source": [
    "On va s'intéresser au dataset **Fichiers France hors Mayotte** de l'INSEE :  https://www.insee.fr/fr/statistiques/2540004/\n",
    "\n",
    "L'idée est de charger les données et ensuite de les conformer au DataFrame des prénoms US. Ainsi, toute manipulation sur le DataFrame des prénoms US pourra être directement réutilisée avec le DataFrame des prénoms français.\n",
    " \n",
    "1. Télécharger le dataset des prénoms français : https://www.insee.fr/fr/statistiques/fichier/2540004/nat2019_csv.zip\n",
    "\n",
    "\n",
    "Lire la documentation, ça peut être utile...\n",
    " \n",
    "2. Implémenter une fonction Python qui produit un DataFrame avec les prénoms français en prenant le DataFrame des prénoms US comme modèle :\n",
    " \n",
    " - Même ordre et mêmes noms des colonnes : year, name, gender, births\n",
    " - Mêmes dtypes pour les colonnes\n",
    " - Mêmes valeurs pour la colonne 'gender'\n",
    " - Seuls les prénoms de 2 caractères et plus sont conservés\n",
    " - La casse des prénoms doit être identique : initiales en majuscule, autres lettres en minuscule\n",
    " - Les lignes avec des données inutilisables doivent être supprimées\n",
    " - Les données sont triées à l'identique : années (↑), puis gender (↑), puis births (↓) et enfin name (↑)\n",
    " - L'index du DataFrame doit aller de 0 à N-1"
   ]
  },
  {
   "cell_type": "code",
   "execution_count": 444,
   "metadata": {},
   "outputs": [],
   "source": [
    "# names fr\n",
    "def df_names_fr():\n",
    "    \n",
    "    #récupération des données \n",
    "    doc_name = 'nat2019.csv'\n",
    "    df = pd.read_csv(doc_name, sep = ';')\n",
    "    \n",
    "    #Colonnes de df\n",
    "    df.columns = ['gender','name', 'year','births']\n",
    "    df = df.reindex(columns=['year','name', 'gender', 'births'])\n",
    "    \n",
    "    # même dtypes =>changement du type de year et de gender\n",
    "    \n",
    "    index_XXXX = df[ df['year'] == 'XXXX'].index\n",
    "    #suppression des lignes avec une année XXXX\n",
    "    df.drop(index_XXXX , inplace=True)\n",
    "    \n",
    "    df = df.astype({'year':'int64'}) \n",
    "     \n",
    "    #Même valeur pour la colonne gender\n",
    "    df = df.astype({'gender':'str'}) \n",
    "    mapping = {'2': 'F', '1' : 'M'}\n",
    "    df['gender'] = df['gender'].map(mapping)\n",
    "    df = df.astype({'gender':'object'}) \n",
    "    \n",
    "    #Suppression des prénoms de plus de 2 caractères\n",
    "    df = df.astype({'name':'str'}) \n",
    "    index_name_to_del = df[df['name'].map(len) < 2].index\n",
    "    df.drop(index_name_to_del , inplace=True)\n",
    "    \n",
    "    \n",
    "    #suppression des prénoms rares\n",
    "    index_rare_name = df[df['name'] == '_PRENOMS_RARES'].index\n",
    "    df.drop(index_rare_name , inplace=True)\n",
    "    \n",
    "    #Casse des prénoms\n",
    "    df['name'] = df['name'].apply(lambda x : x.capitalize())\n",
    "    df = df.astype({'name':'object'}) \n",
    "    \n",
    "    #Tri \n",
    "    df_res = df.sort_values(by = ['year', 'gender', 'births', 'name'], ascending = [True, True, False, True])\n",
    "    \n",
    "    #Reset de l'index\n",
    "    df_res.reset_index(drop = True, inplace = True) \n",
    "    #changement directement dans le dataframe\n",
    "    #ici ne renvoie pas de data frame avec une colonne en plus et ne garde pas les anciennes positions\n",
    "    \n",
    "    \n",
    "    return df_res"
   ]
  },
  {
   "cell_type": "markdown",
   "metadata": {},
   "source": [
    "## 3. Taux de change"
   ]
  },
  {
   "cell_type": "markdown",
   "metadata": {},
   "source": [
    "On va s'intéresser au dataset des cours des devises de la Banque de France :  http://webstat.banque-france.fr/fr/browseBox.do?node=5385566\n",
    "\n",
    "L'idée est de charger les données, de les nettoyer et de pouvoir accéder aux cours de certaines devises à partir de leur code ISO3.\n",
    " \n",
    "1. Télécharger le dataset des taux de change : http://webstat.banque-france.fr/fr/downloadFile.do?id=5385698&exportType=csv\n",
    "\n",
    "\n",
    "2. Implémenter une fonction qui produit un DataFrame avec les taux de change par date pour une liste de codes ISO3 de devises passée en argument. L'index du DataFrame doit correspondre aux dates (voir la fonction pd.to_datetime() avec le format '%d/%m/%Y'). Les colonnes du DataFrame doivent correspondre aux devises."
   ]
  },
  {
   "cell_type": "code",
   "execution_count": 445,
   "metadata": {},
   "outputs": [],
   "source": [
    "# taux de change\n",
    "def df_taux_change(devises):\n",
    "    \n",
    "    df_res = pd.DataFrame()\n",
    "    df_temp = pd.DataFrame()\n",
    "    #récupération des données \n",
    "    # travail effectué sur les données disponibles au 25 octobre \n",
    "\n",
    "    doc_name = 'Webstat_Export_20201025.csv'\n",
    "    df = pd.read_csv(doc_name, sep = ';')\n",
    "    \n",
    "   \n",
    "\n",
    "    #liste des codes ISO\n",
    "    temp = df.loc[1]\n",
    "    list_temp = temp [1: len(temp)] \n",
    "    list_ISO_code = ['Date']\n",
    "    for x in list_temp: \n",
    "        list_ISO_code.append(x[-4:-1])\n",
    "        \n",
    "    #modification du dataframe\n",
    "    df.drop(df.index[0:5],0,inplace=True)\n",
    "\n",
    "    df.columns = list_ISO_code\n",
    "    \n",
    "    #Transformation de la colonne Date / Index\n",
    "\n",
    "    df['Date'] = pd.to_datetime(df['Date'], format='%d/%m/%Y')\n",
    "    df.set_index('Date')\n",
    "    \n",
    "    \n",
    "    cpt =0\n",
    "    \n",
    "    #récupération des différentes devises et inclusion dans un nouveau dataFrame\n",
    "    for devise in devises: \n",
    "        df_temp.insert(loc = cpt, column = devise, value = df[devise])\n",
    "        cpt = cpt+1\n",
    "    \n",
    "    #Mise en place de l'index Date\n",
    "    df_temp.index = df['Date']\n",
    "    \n",
    "    print(df_temp)\n",
    "    print(df_temp.dtypes)\n",
    "    \n",
    "    #Nettoyage de la nouvelle base de données\n",
    "    \n",
    "    \n",
    "    for devise in devises: \n",
    "        df_temp = df_temp.astype({devise:'str'}) \n",
    "        df_temp[devise] = [x.replace(\",\", \".\") for x in df_temp[devise]]\n",
    "        index = df_temp[df_temp[devise] == '-'].index\n",
    "        df_temp.drop(index , inplace=True)\n",
    "        df_temp = df_temp.astype({devise:'float64'}) \n",
    "    df_res = df_temp.dropna()\n",
    "    \n",
    "    \n",
    "    return df_res"
   ]
  },
  {
   "cell_type": "markdown",
   "metadata": {},
   "source": [
    "### Tests"
   ]
  },
  {
   "cell_type": "code",
   "execution_count": 446,
   "metadata": {},
   "outputs": [],
   "source": [
    "import unittest\n",
    "\n",
    "class Lesson4Tests(unittest.TestCase):\n",
    "    def test_df_names_us(self):\n",
    "        df = df_names_us()\n",
    "        # colonnes\n",
    "        self.assertEqual(list(df.columns), ['year', 'name', 'gender', 'births'])\n",
    "        # lignes\n",
    "        self.assertEqual(len(df), 1989401)\n",
    "        # index\n",
    "        self.assertTrue(isinstance(df.index, pd.core.indexes.range.RangeIndex))\n",
    "        # test NaN\n",
    "        self.assertTrue(df.loc[df.isnull().any(axis=1)].empty)\n",
    "        \n",
    "    def test_df_names_fr(self):\n",
    "        df = df_names_fr()\n",
    "        # colonnes\n",
    "        self.assertEqual(list(df.columns), ['year', 'name', 'gender', 'births'])\n",
    "        # lignes\n",
    "        self.assertEqual(len(df), 615912)\n",
    "        # index\n",
    "        self.assertTrue(isinstance(df.index, pd.core.indexes.range.RangeIndex))\n",
    "        # test names\n",
    "        self.assertTrue(df.loc[df['name'].str.contains('^[A-Z]+(?:-[A-Z]+)?$')].empty)\n",
    "        # test gender\n",
    "        self.assertEqual(len(df), len(df.loc[df['gender']=='F']) + len(df.loc[df['gender']=='M']))\n",
    "        # test NaN\n",
    "        self.assertTrue(df.loc[df.isnull().any(axis=1)].empty)\n",
    "\n",
    "    def test_df_taux_change(self):\n",
    "        df = df_taux_change(['CHF', 'GBP', 'USD'])\n",
    "        # colonnes\n",
    "        self.assertEqual(list(df.columns), ['CHF', 'GBP', 'USD'])\n",
    "        # index\n",
    "        self.assertTrue(isinstance(df.index, pd.core.indexes.datetimes.DatetimeIndex))\n",
    "        # types taux\n",
    "        self.assertTrue((df.dtypes == 'float').all())\n",
    "        # test NaN\n",
    "        self.assertTrue(df.loc[df.isnull().any(axis=1)].empty)\n"
   ]
  },
  {
   "cell_type": "code",
   "execution_count": 447,
   "metadata": {},
   "outputs": [],
   "source": [
    "# run tests\n",
    "def run_tests():\n",
    "    test_suite = unittest.makeSuite(Lesson4Tests)\n",
    "    runner = unittest.TextTestRunner(verbosity=2)\n",
    "    runner.run(test_suite)"
   ]
  },
  {
   "cell_type": "code",
   "execution_count": 448,
   "metadata": {},
   "outputs": [
    {
     "name": "stderr",
     "output_type": "stream",
     "text": [
      "test_df_names_fr (__main__.Lesson4Tests) ... ok\n",
      "test_df_names_us (__main__.Lesson4Tests) ... ok\n",
      "test_df_taux_change (__main__.Lesson4Tests) ... "
     ]
    },
    {
     "name": "stdout",
     "output_type": "stream",
     "text": [
      "               CHF      GBP     USD\n",
      "Date                               \n",
      "2020-10-23  1,0715  0,90675  1,1856\n",
      "2020-10-22  1,0726  0,90273  1,1821\n",
      "2020-10-21  1,0715  0,90754  1,1852\n",
      "2020-10-20  1,0724  0,91329   1,181\n",
      "2020-10-19  1,0724  0,90588  1,1785\n",
      "...            ...      ...     ...\n",
      "1999-01-08  1,6138   0,7094  1,1659\n",
      "1999-01-07  1,6165  0,70585  1,1632\n",
      "1999-01-06  1,6116   0,7076  1,1743\n",
      "1999-01-05  1,6123   0,7122   1,179\n",
      "1999-01-04  1,6168   0,7111  1,1789\n",
      "\n",
      "[7964 rows x 3 columns]\n",
      "CHF    object\n",
      "GBP    object\n",
      "USD    object\n",
      "dtype: object\n"
     ]
    },
    {
     "name": "stderr",
     "output_type": "stream",
     "text": [
      "ok\n",
      "\n",
      "----------------------------------------------------------------------\n",
      "Ran 3 tests in 3.389s\n",
      "\n",
      "OK\n"
     ]
    }
   ],
   "source": [
    "run_tests()"
   ]
  },
  {
   "cell_type": "code",
   "execution_count": null,
   "metadata": {},
   "outputs": [],
   "source": []
  }
 ],
 "metadata": {
  "kernelspec": {
   "display_name": "Python 3",
   "language": "python",
   "name": "python3"
  },
  "language_info": {
   "codemirror_mode": {
    "name": "ipython",
    "version": 3
   },
   "file_extension": ".py",
   "mimetype": "text/x-python",
   "name": "python",
   "nbconvert_exporter": "python",
   "pygments_lexer": "ipython3",
   "version": "3.8.3"
  }
 },
 "nbformat": 4,
 "nbformat_minor": 4
}
